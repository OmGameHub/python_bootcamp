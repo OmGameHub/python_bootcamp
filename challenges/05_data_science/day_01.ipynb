{
 "cells": [
  {
   "cell_type": "markdown",
   "id": "975e0731",
   "metadata": {},
   "source": [
    "### Welcome to Python notebook\n",
    "### Day 1\n",
    "\n",
    "This is where you can write your notes"
   ]
  },
  {
   "cell_type": "code",
   "execution_count": 1,
   "id": "b3fdb059",
   "metadata": {},
   "outputs": [
    {
     "name": "stdout",
     "output_type": "stream",
     "text": [
      "Om Prakash\n"
     ]
    }
   ],
   "source": [
    "print(\"Om Prakash\")"
   ]
  },
  {
   "cell_type": "code",
   "execution_count": 2,
   "id": "41302528",
   "metadata": {},
   "outputs": [
    {
     "name": "stdout",
     "output_type": "stream",
     "text": [
      "this value is 0\n",
      "this value is 1\n",
      "this value is 2\n",
      "this value is 3\n",
      "this value is 4\n",
      "this value is 5\n",
      "this value is 6\n",
      "this value is 7\n",
      "this value is 8\n",
      "this value is 9\n"
     ]
    }
   ],
   "source": [
    "for i in range(10):\n",
    "    print(f\"this value is {i}\")"
   ]
  }
 ],
 "metadata": {
  "kernelspec": {
   "display_name": "venv",
   "language": "python",
   "name": "python3"
  },
  "language_info": {
   "codemirror_mode": {
    "name": "ipython",
    "version": 3
   },
   "file_extension": ".py",
   "mimetype": "text/x-python",
   "name": "python",
   "nbconvert_exporter": "python",
   "pygments_lexer": "ipython3",
   "version": "3.12.2"
  }
 },
 "nbformat": 4,
 "nbformat_minor": 5
}
